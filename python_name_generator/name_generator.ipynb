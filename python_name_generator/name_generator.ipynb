{
 "cells": [
  {
   "cell_type": "code",
   "execution_count": 106,
   "id": "70860bf2-bfde-446e-8a4e-6c5a1044da8c",
   "metadata": {},
   "outputs": [
    {
     "name": "stdout",
     "output_type": "stream",
     "text": [
      "Generated Male Full Names:\n",
      "Əskərov Valeh Cabir\n",
      "Hümbətov Həsən Firdovsi\n",
      "Eminov Üzeyir Təhmasib\n",
      "Rəşidov Təhmasib Üzeyir\n",
      "Qəmbərov Cavanşir Sərxan\n",
      "Dövlətzadə Şəfi Nurlan\n",
      "Mustafayev Yalçın Rüstəm\n",
      "İsmayılzadə Fərrux Toğrul\n",
      "Xasməmmədli Tağı Ayxan\n",
      "Oruczadə Xasay Fikrət\n",
      "Kərimov İqbal Kamal\n",
      "Hüseynov Azad Mətin\n",
      "Osmanlı Xalıq Oğuz\n",
      "Aslanov Mürşid Mahmud\n",
      "Hacızadə Qafar Lətif\n",
      "Balayev Həmzə Səlim\n",
      "Xəlilli Əfqan Faiq\n",
      "Sadullayev Nəsir Vurğun\n",
      "Abbasov Cəbrayıl Qasım\n",
      "Mürsəlzadə Tofiq Elnur\n",
      "\n",
      "Generated Female Full Names:\n",
      "Məhsimova Dilarə Yaşar\n",
      "Hacıəhmədova Tutu Vahab\n",
      "Həbibova Pərvin Səid\n",
      "Nəsrullayeva Gülşən Əziz\n",
      "Yahyayeva Şəfa Mübariz\n",
      "İsgəndərli Kövsər Mürşid\n",
      "Məhərrəmli Aytən Ayaz\n",
      "Misirova Firəngiz Özbək\n",
      "Əmiraslanova Hürü Sadiq\n",
      "Əliyeva Gülgəz Fərrux\n"
     ]
    }
   ],
   "source": [
    "# First import libraries that we will use\n",
    "import pandas as pd \n",
    "import random\n",
    "\n",
    "# Read the Excel sheet into a DataFrame\n",
    "df = pd.read_excel('names.xlsx')\n",
    "\n",
    "# Extract lists of names and surnames from our file\n",
    "male_names = df['m_names'].tolist() \n",
    "female_names = df['f_names'].tolist() \n",
    "male_surnames = df['m_surnames'].tolist() \n",
    "female_surnames = df['f_surnames'].tolist() \n",
    "father_name = df['m_names'].tolist()\n",
    "\n",
    "# Generate random full names: first for male then female\n",
    "random_male_full_names = [] \n",
    "random_female_full_names = []\n",
    "\n",
    "for _ in range(500): \n",
    "    random_male_name = random.choice(male_names) \n",
    "    random_male_surname = random.choice(male_surnames) \n",
    "    random_father_name = random.choice(father_name) \n",
    "    random_male_full_name = f\"{random_male_surname} {random_male_name} {random_father_name}\" \n",
    "    random_male_full_names.append(random_male_full_name)\n",
    "\n",
    "    random_female_name = random.choice(female_names)\n",
    "    random_female_surname = random.choice(female_surnames)\n",
    "    random_father_name = random.choice(father_name)\n",
    "    random_female_full_name = f\"{random_female_surname} {random_female_name} {random_father_name}\"\n",
    "    random_female_full_names.append(random_female_full_name)\n",
    "# Display the generated male full names\n",
    "print(\"Generated Male Full Names:\")\n",
    "for idx, name in enumerate(random_male_full_names[:20]): # Displaying the first 10 names \n",
    "    print(f\"{name}\")\n",
    "\n",
    "# Display the generated female full names\n",
    "print(\"\\nGenerated Female Full Names:\")\n",
    "for idx, name in enumerate(random_female_full_names[:10]): # Displaying the first 10 names \n",
    "    print(f\"{name}\")"
   ]
  }
 ],
 "metadata": {
  "kernelspec": {
   "display_name": "Python 3 (ipykernel)",
   "language": "python",
   "name": "python3"
  },
  "language_info": {
   "codemirror_mode": {
    "name": "ipython",
    "version": 3
   },
   "file_extension": ".py",
   "mimetype": "text/x-python",
   "name": "python",
   "nbconvert_exporter": "python",
   "pygments_lexer": "ipython3",
   "version": "3.12.0"
  }
 },
 "nbformat": 4,
 "nbformat_minor": 5
}
